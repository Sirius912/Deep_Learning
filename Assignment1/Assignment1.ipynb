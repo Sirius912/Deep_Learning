{
 "cells": [
  {
   "cell_type": "markdown",
   "metadata": {},
   "source": [
    "# Assignment1\n",
    "#### Deep Learning, prof. Choi"
   ]
  },
  {
   "cell_type": "markdown",
   "metadata": {},
   "source": [
    "## Import Libraries"
   ]
  },
  {
   "cell_type": "code",
   "execution_count": 1,
   "metadata": {},
   "outputs": [],
   "source": [
    "import numpy as np\n",
    "import torch\n",
    "import torch.optim as optim\n",
    "import matplotlib.pyplot as plt"
   ]
  },
  {
   "cell_type": "markdown",
   "metadata": {},
   "source": [
    "## Prepare the datasets"
   ]
  },
  {
   "cell_type": "markdown",
   "metadata": {},
   "source": [
    "![](dataset.png)"
   ]
  },
  {
   "cell_type": "code",
   "execution_count": 2,
   "metadata": {},
   "outputs": [],
   "source": [
    "x_train = torch.FloatTensor([[3.8, 700, 80, 50],\n",
    "                             [3.2, 650, 90, 30],\n",
    "                             [3.7, 820, 70, 40],\n",
    "                             [4.2, 830, 50, 70],\n",
    "                             [2.6, 550, 90, 60],\n",
    "                             [3.4, 910, 30, 40],\n",
    "                             [4.1, 990, 70, 20],\n",
    "                             [3.3, 870, 60, 60],\n",
    "                             [3.9, 650, 80, 50]\n",
    "                            ])\n",
    "y_train = torch.FloatTensor([[85], [80], [78], [87], [85], [70], [81], [88], [84]])"
   ]
  },
  {
   "cell_type": "markdown",
   "metadata": {},
   "source": [
    "## Plot the graph with different conditions"
   ]
  },
  {
   "cell_type": "markdown",
   "metadata": {},
   "source": [
    "### Cost according to learning rates"
   ]
  },
  {
   "cell_type": "code",
   "execution_count": 3,
   "metadata": {},
   "outputs": [
    {
     "name": "stdout",
     "output_type": "stream",
     "text": [
      "Num of epochs: 10000, Learning rate: 0.0001, cost: nan\n",
      "Num of epochs: 10000, Learning rate: 1e-05, cost: nan\n",
      "Num of epochs: 10000, Learning rate: 1e-06, cost: 2.433581590652466\n",
      "Num of epochs: 10000, Learning rate: 1e-07, cost: 14.371427536010742\n",
      "Num of epochs: 10000, Learning rate: 1e-08, cost: 190.0982208251953\n",
      "Best learning rate: 1e-06\n"
     ]
    }
   ],
   "source": [
    "num_epochs = 10000\n",
    "learning_rate = [1e-4, 1e-5, 1e-6, 1e-7, 1e-8]\n",
    "\n",
    "cost_with_lr = []\n",
    "best_learning_rate = 0\n",
    "\n",
    "for i in range(len(learning_rate)):\n",
    "    W = torch.zeros([4, 1], requires_grad=True)\n",
    "    b = torch.zeros(1, requires_grad=True)\n",
    "    \n",
    "    optimizer = optim.SGD([W, b], lr=learning_rate[i])\n",
    "\n",
    "    for epoch in range(num_epochs):\n",
    "        hypothesis = x_train.matmul(W) + b\n",
    "        cost = torch.mean((hypothesis - y_train) ** 2)\n",
    "\n",
    "        optimizer.zero_grad()\n",
    "        cost.backward()\n",
    "        optimizer.step()\n",
    "        \n",
    "        if epoch == num_epochs-1:\n",
    "            print(f'Num of epochs: {num_epochs}, Learning rate: {learning_rate[i]}, cost: {cost}')\n",
    "            cost_with_lr.append(cost.item())\n",
    "\n",
    "best_learning_rate = learning_rate[np.nanargmin(cost_with_lr)]\n",
    "print('Best learning rate:', best_learning_rate)"
   ]
  },
  {
   "cell_type": "markdown",
   "metadata": {},
   "source": [
    "### Plot cost with learning rate"
   ]
  },
  {
   "cell_type": "code",
   "execution_count": 4,
   "metadata": {},
   "outputs": [
    {
     "data": {
      "image/png": "[encoded data removed]",
      "text/plain": [
       "<Figure size 640x480 with 1 Axes>"
      ]
     },
     "metadata": {},
     "output_type": "display_data"
    }
   ],
   "source": [
    "plt.scatter(learning_rate, cost_with_lr)\n",
    "plt.xlabel('Learning rate')\n",
    "plt.ylabel('Cost')\n",
    "plt.title('Cost with learning rate')\n",
    "plt.xscale('log')\n",
    "plt.xticks(learning_rate)\n",
    "plt.show()"
   ]
  },
  {
   "cell_type": "markdown",
   "metadata": {},
   "source": [
    "### Cost according to number of epochs"
   ]
  },
  {
   "cell_type": "code",
   "execution_count": 5,
   "metadata": {},
   "outputs": [
    {
     "name": "stdout",
     "output_type": "stream",
     "text": [
      "Num of epochs: 100, Learning rate: 1e-06, cost: 190.6692657470703\n",
      "Num of epochs: 1000, Learning rate: 1e-06, cost: 14.377408981323242\n",
      "Num of epochs: 10000, Learning rate: 1e-06, cost: 2.433581590652466\n",
      "Num of epochs: 100000, Learning rate: 1e-06, cost: 2.419171094894409\n",
      "Best epoch: 100000\n"
     ]
    }
   ],
   "source": [
    "num_epochs = [100, 1000, 10000, 100000]\n",
    "cost_with_epoch = []\n",
    "best_epoch = 0\n",
    "\n",
    "for i in range(len(num_epochs)):\n",
    "    W = torch.zeros([4, 1], requires_grad=True)\n",
    "    b = torch.zeros(1, requires_grad=True)\n",
    "    \n",
    "    optimizer = optim.SGD([W, b], lr=best_learning_rate)\n",
    "\n",
    "    for epoch in range(num_epochs[i]):\n",
    "        hypothesis = x_train.matmul(W) + b\n",
    "        cost = torch.mean((hypothesis - y_train) ** 2)\n",
    "\n",
    "        optimizer.zero_grad()\n",
    "        cost.backward()\n",
    "        optimizer.step()\n",
    "        \n",
    "        if epoch == num_epochs[i]-1:\n",
    "            print(f'Num of epochs: {num_epochs[i]}, Learning rate: {best_learning_rate}, cost: {cost}')\n",
    "            cost_with_epoch.append(cost.item())\n",
    "\n",
    "best_epoch = num_epochs[np.argmin(cost_with_epoch)]\n",
    "print('Best epoch:', best_epoch)"
   ]
  },
  {
   "cell_type": "markdown",
   "metadata": {},
   "source": [
    "### Plot cost with number of epochs"
   ]
  },
  {
   "cell_type": "code",
   "execution_count": 6,
   "metadata": {},
   "outputs": [
    {
     "data": {
      "image/png": "[encoded data removed]",
      "text/plain": [
       "<Figure size 640x480 with 1 Axes>"
      ]
     },
     "metadata": {},
     "output_type": "display_data"
    }
   ],
   "source": [
    "plt.scatter(num_epochs, cost_with_epoch)\n",
    "plt.xlabel('num_epochs')\n",
    "plt.ylabel('Cost')\n",
    "plt.title('Cost with number of epochs')\n",
    "plt.xscale('log')\n",
    "plt.xticks(num_epochs)\n",
    "plt.show()"
   ]
  },
  {
   "cell_type": "markdown",
   "metadata": {},
   "source": [
    "## Train the model with best parameters"
   ]
  },
  {
   "cell_type": "code",
   "execution_count": 7,
   "metadata": {},
   "outputs": [
    {
     "name": "stdout",
     "output_type": "stream",
     "text": [
      "Epoch 0/100000 - Cost: 6751.5556640625\n",
      "Epoch 10000/100000 - Cost: 2.433574914932251\n",
      "Epoch 20000/100000 - Cost: 2.431699514389038\n",
      "Epoch 30000/100000 - Cost: 2.430103063583374\n",
      "Epoch 40000/100000 - Cost: 2.4285054206848145\n",
      "Epoch 50000/100000 - Cost: 2.4269261360168457\n",
      "Epoch 60000/100000 - Cost: 2.425358533859253\n",
      "Epoch 70000/100000 - Cost: 2.4237959384918213\n",
      "Epoch 80000/100000 - Cost: 2.422241687774658\n",
      "Epoch 90000/100000 - Cost: 2.420689105987549\n"
     ]
    }
   ],
   "source": [
    "W = torch.zeros([4, 1], requires_grad=True)\n",
    "b = torch.zeros(1, requires_grad=True)\n",
    "\n",
    "optimizer = optim.SGD([W, b], lr=best_learning_rate)\n",
    "\n",
    "costs = []\n",
    "num_epochs = best_epoch\n",
    "\n",
    "for epoch in range(num_epochs):\n",
    "    hypothesis = x_train.matmul(W) + b\n",
    "    cost = torch.mean((hypothesis - y_train) ** 2)\n",
    "\n",
    "    optimizer.zero_grad()\n",
    "    cost.backward()\n",
    "    optimizer.step()\n",
    "\n",
    "    costs.append(cost.item())\n",
    "\n",
    "    if epoch % (num_epochs // 10) == 0:\n",
    "        print(f\"Epoch {epoch}/{num_epochs} - Cost: {cost.item()}\")"
   ]
  },
  {
   "cell_type": "markdown",
   "metadata": {},
   "source": [
    "## Print trained W, b"
   ]
  },
  {
   "cell_type": "code",
   "execution_count": 8,
   "metadata": {},
   "outputs": [
    {
     "name": "stdout",
     "output_type": "stream",
     "text": [
      "Weights of the model: [[0.04704666]\n",
      " [0.04406528]\n",
      " [0.41087732]\n",
      " [0.41505808]]\n",
      "Bias of the model: [0.00795532]\n"
     ]
    }
   ],
   "source": [
    "print('Weights of the model:', W.detach().numpy())\n",
    "print('Bias of the model:', b.detach().numpy())"
   ]
  },
  {
   "cell_type": "markdown",
   "metadata": {},
   "source": [
    "## Cost with epoch (Best performance)"
   ]
  },
  {
   "cell_type": "code",
   "execution_count": 9,
   "metadata": {},
   "outputs": [
    {
     "data": {
      "image/png": "[encoded data removed]",
      "text/plain": [
       "<Figure size 640x480 with 1 Axes>"
      ]
     },
     "metadata": {},
     "output_type": "display_data"
    }
   ],
   "source": [
    "plt.plot(range(num_epochs), costs)\n",
    "plt.xlabel('Epoch')\n",
    "plt.ylabel('Cost')\n",
    "plt.title('Cost with epoch (lr=1e-6)')\n",
    "plt.show()"
   ]
  },
  {
   "cell_type": "markdown",
   "metadata": {},
   "source": [
    "## Test model"
   ]
  },
  {
   "cell_type": "code",
   "execution_count": 10,
   "metadata": {},
   "outputs": [
    {
     "name": "stdout",
     "output_type": "stream",
     "text": [
      "Total score is estimated 97\n"
     ]
    }
   ],
   "source": [
    "test_data = torch.FloatTensor([[3.3, 700, 77, 84]])\n",
    "predict = test_data.matmul(W) + b\n",
    "pred_val = predict.squeeze().detach().numpy()\n",
    "print('Total score is estimated %d' %(pred_val))"
   ]
  }
 ],
 "metadata": {
  "kernelspec": {
   "display_name": "sirius",
   "language": "python",
   "name": "python3"
  },
  "language_info": {
   "codemirror_mode": {
    "name": "ipython",
    "version": 3
   },
   "file_extension": ".py",
   "mimetype": "text/x-python",
   "name": "python",
   "nbconvert_exporter": "python",
   "pygments_lexer": "ipython3",
   "version": "3.8.20"
  }
 },
 "nbformat": 4,
 "nbformat_minor": 2
}
