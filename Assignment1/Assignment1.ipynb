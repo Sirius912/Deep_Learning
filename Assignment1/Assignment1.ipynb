{
 "cells": [
  {
   "cell_type": "markdown",
   "metadata": {},
   "source": [
    "# Assignment1\n",
    "#### Deep Learning, prof. Choi"
   ]
  },
  {
   "cell_type": "markdown",
   "metadata": {},
   "source": [
    "## Import Libraries"
   ]
  },
  {
   "cell_type": "code",
   "execution_count": 1,
   "metadata": {},
   "outputs": [],
   "source": [
    "import numpy as numpy\n",
    "import torch\n",
    "import torch.optim as optim\n",
    "import matplotlib.pyplot as plt"
   ]
  },
  {
   "cell_type": "markdown",
   "metadata": {},
   "source": [
    "## Prepare datasets"
   ]
  },
  {
   "cell_type": "code",
   "execution_count": 2,
   "metadata": {},
   "outputs": [],
   "source": [
    "x_train = torch.FloatTensor([[3.8, 700, 80, 50],\n",
    "                             [3.2, 650, 90, 30],\n",
    "                             [3.7, 820, 70, 40],\n",
    "                             [4.2, 830, 50, 70],\n",
    "                             [2.6, 550, 90, 60],\n",
    "                             [3.4, 910, 30, 40],\n",
    "                             [4.1, 990, 70, 20],\n",
    "                             [3.3, 870, 60, 60],\n",
    "                             [3.9, 650, 80, 50]\n",
    "                            ])\n",
    "y_train = torch.FloatTensor([[85], [80], [78], [87], [85], [70], [81], [88], [84]])"
   ]
  },
  {
   "cell_type": "code",
   "execution_count": 3,
   "metadata": {},
   "outputs": [],
   "source": [
    "W = torch.zeros([4, 1], requires_grad=True)\n",
    "b = torch.zeros(1, requires_grad=True)"
   ]
  },
  {
   "cell_type": "markdown",
   "metadata": {},
   "source": [
    "## Train model"
   ]
  },
  {
   "cell_type": "code",
   "execution_count": 4,
   "metadata": {},
   "outputs": [
    {
     "name": "stdout",
     "output_type": "stream",
     "text": [
      "Epoch 0/10000 - Cost: 6751.5556640625\n",
      "Epoch 1000/10000 - Cost: 14.346466064453125\n",
      "Epoch 2000/10000 - Cost: 4.187704563140869\n",
      "Epoch 3000/10000 - Cost: 2.96061635017395\n",
      "Epoch 4000/10000 - Cost: 2.610428810119629\n",
      "Epoch 5000/10000 - Cost: 2.4937002658843994\n",
      "Epoch 6000/10000 - Cost: 2.4541242122650146\n",
      "Epoch 7000/10000 - Cost: 2.4406306743621826\n",
      "Epoch 8000/10000 - Cost: 2.435948610305786\n",
      "Epoch 9000/10000 - Cost: 2.434258222579956\n"
     ]
    }
   ],
   "source": [
    "optimizer = optim.SGD([W, b], lr=1e-6)\n",
    "\n",
    "num_epochs = 10000\n",
    "costs = []\n",
    "for epoch in range(num_epochs):\n",
    "    hypothesis = x_train.matmul(W) + b\n",
    "    cost = torch.mean((hypothesis - y_train) ** 2)\n",
    "\n",
    "    optimizer.zero_grad()\n",
    "    cost.backward()\n",
    "    optimizer.step()\n",
    "\n",
    "    costs.append(cost.item())\n",
    "\n",
    "    if epoch % (num_epochs // 10) == 0:  # 10번만 출력\n",
    "        print(f\"Epoch {epoch}/{num_epochs} - Cost: {cost.item()}\")"
   ]
  },
  {
   "cell_type": "markdown",
   "metadata": {},
   "source": [
    "## Plot the graph"
   ]
  },
  {
   "cell_type": "markdown",
   "metadata": {},
   "source": [
    "### Learning rate with cost"
   ]
  },
  {
   "cell_type": "code",
   "execution_count": null,
   "metadata": {},
   "outputs": [],
   "source": []
  },
  {
   "cell_type": "markdown",
   "metadata": {},
   "source": [
    "### Epoch with cost"
   ]
  },
  {
   "cell_type": "code",
   "execution_count": 5,
   "metadata": {},
   "outputs": [
    {
     "data": {
      "image/png": "[encoded data removed]",
      "text/plain": [
       "<Figure size 640x480 with 1 Axes>"
      ]
     },
     "metadata": {},
     "output_type": "display_data"
    }
   ],
   "source": [
    "plt.plot(range(num_epochs), costs)\n",
    "plt.xlabel('Epoch')\n",
    "plt.ylabel('Cost')\n",
    "plt.title('Epoch with cost')\n",
    "plt.show()"
   ]
  },
  {
   "cell_type": "markdown",
   "metadata": {},
   "source": [
    "## Test model"
   ]
  },
  {
   "cell_type": "code",
   "execution_count": 6,
   "metadata": {},
   "outputs": [
    {
     "name": "stdout",
     "output_type": "stream",
     "text": [
      "Total score is estimated 97\n"
     ]
    }
   ],
   "source": [
    "test_data = torch.FloatTensor([[3.3, 700, 77, 84]])\n",
    "predict = test_data.matmul(W) + b\n",
    "pred_val = predict.squeeze().detach().numpy()\n",
    "print('Total score is estimated %d' %(pred_val))"
   ]
  }
 ],
 "metadata": {
  "kernelspec": {
   "display_name": "sirius",
   "language": "python",
   "name": "python3"
  },
  "language_info": {
   "codemirror_mode": {
    "name": "ipython",
    "version": 3
   },
   "file_extension": ".py",
   "mimetype": "text/x-python",
   "name": "python",
   "nbconvert_exporter": "python",
   "pygments_lexer": "ipython3",
   "version": "3.8.20"
  }
 },
 "nbformat": 4,
 "nbformat_minor": 2
}
