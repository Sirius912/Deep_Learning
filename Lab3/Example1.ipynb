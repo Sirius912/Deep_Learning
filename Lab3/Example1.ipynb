{
 "cells": [
  {
   "cell_type": "markdown",
   "metadata": {},
   "source": [
    "# Example 1: Binary Classification"
   ]
  },
  {
   "cell_type": "markdown",
   "metadata": {},
   "source": [
    "## Import Libraries"
   ]
  },
  {
   "cell_type": "code",
   "execution_count": 2,
   "metadata": {},
   "outputs": [],
   "source": [
    "import torch\n",
    "import torch.optim as optim"
   ]
  },
  {
   "cell_type": "markdown",
   "metadata": {},
   "source": [
    "## Prepare the dataset"
   ]
  },
  {
   "cell_type": "markdown",
   "metadata": {},
   "source": [
    "![](Example1_dataset.png)"
   ]
  },
  {
   "cell_type": "code",
   "execution_count": 3,
   "metadata": {},
   "outputs": [],
   "source": [
    "X = torch.FloatTensor([[80, 220],\n",
    "                       [75, 167],\n",
    "                       [86, 210],\n",
    "                       [110, 330],\n",
    "                       [95, 280],\n",
    "                       [67, 190],\n",
    "                       [79, 210],\n",
    "                       [98, 250]])\n",
    "y = torch.FloatTensor([[1], [0], [1], [1], [1], [0], [0], [1]])"
   ]
  },
  {
   "cell_type": "code",
   "execution_count": 4,
   "metadata": {},
   "outputs": [
    {
     "name": "stdout",
     "output_type": "stream",
     "text": [
      "X shape: torch.Size([8, 2])\n",
      "y shape: torch.Size([8, 1])\n"
     ]
    }
   ],
   "source": [
    "print('X shape:', X.shape)\n",
    "print('y shape:', y.shape)"
   ]
  },
  {
   "cell_type": "markdown",
   "metadata": {},
   "source": [
    "## Train the model"
   ]
  },
  {
   "cell_type": "code",
   "execution_count": 5,
   "metadata": {},
   "outputs": [
    {
     "name": "stdout",
     "output_type": "stream",
     "text": [
      "Epoch: 0, cost: 0.693147\n",
      "Epoch: 10, cost: 0.622544\n",
      "Epoch: 20, cost: 0.619522\n",
      "Epoch: 30, cost: 0.619264\n",
      "Epoch: 40, cost: 0.619152\n",
      "Epoch: 50, cost: 0.619048\n",
      "Epoch: 60, cost: 0.618945\n",
      "Epoch: 70, cost: 0.618842\n",
      "Epoch: 80, cost: 0.618739\n",
      "Epoch: 90, cost: 0.618637\n"
     ]
    }
   ],
   "source": [
    "W = torch.zeros((2, 1), requires_grad=True)\n",
    "b = torch.zeros(1, requires_grad=True)\n",
    "\n",
    "optimizer = optim.SGD([W, b], lr=0.00001)\n",
    "\n",
    "for epoch in range(100):\n",
    "    hypothesis = 1 / (1 + torch.exp(-(X.matmul(W) + b)))\n",
    "    loss = -(y * torch.log(hypothesis) + (1 - y) * torch.log(1 - hypothesis))\n",
    "    cost = loss.mean()\n",
    "\n",
    "    optimizer.zero_grad()\n",
    "    cost.backward()\n",
    "    optimizer.step()\n",
    "\n",
    "    if epoch % 10 == 0:\n",
    "        print('Epoch: %d, cost: %f' %(epoch, cost))"
   ]
  }
 ],
 "metadata": {
  "kernelspec": {
   "display_name": "sirius",
   "language": "python",
   "name": "python3"
  },
  "language_info": {
   "codemirror_mode": {
    "name": "ipython",
    "version": 3
   },
   "file_extension": ".py",
   "mimetype": "text/x-python",
   "name": "python",
   "nbconvert_exporter": "python",
   "pygments_lexer": "ipython3",
   "version": "3.8.20"
  }
 },
 "nbformat": 4,
 "nbformat_minor": 2
}
