{
 "cells": [
  {
   "cell_type": "markdown",
   "metadata": {},
   "source": [
    "# Example2: Multi-class classification"
   ]
  },
  {
   "cell_type": "markdown",
   "metadata": {},
   "source": [
    "## Import libraries"
   ]
  },
  {
   "cell_type": "code",
   "execution_count": 19,
   "metadata": {},
   "outputs": [],
   "source": [
    "import torch\n",
    "import torch.optim as optim\n",
    "import torch.nn.functional as F"
   ]
  },
  {
   "cell_type": "markdown",
   "metadata": {},
   "source": [
    "## Prepare the dataset"
   ]
  },
  {
   "cell_type": "markdown",
   "metadata": {},
   "source": [
    "![](Example2_dataset.png)"
   ]
  },
  {
   "cell_type": "code",
   "execution_count": 20,
   "metadata": {},
   "outputs": [],
   "source": [
    "X = torch.FloatTensor([[80, 220, 6300], \n",
    "                       [75, 167, 4500],\n",
    "                       [86, 210, 7500],\n",
    "                       [110, 330, 9000],\n",
    "                       [95, 280, 8700],\n",
    "                       [67, 190, 6800],\n",
    "                       [79, 210, 5000],\n",
    "                       [98, 250, 7200]])\n",
    "y = torch.LongTensor([2, 3, 1, 0, 0, 3, 2, 1])  # to calculate cross entropy use longTensor"
   ]
  },
  {
   "cell_type": "code",
   "execution_count": 21,
   "metadata": {},
   "outputs": [
    {
     "name": "stdout",
     "output_type": "stream",
     "text": [
      "X shape: torch.Size([8, 3])\n",
      "y shape: torch.Size([8])\n"
     ]
    }
   ],
   "source": [
    "print('X shape:', X.shape)\n",
    "print('y shape:', y.shape)"
   ]
  },
  {
   "cell_type": "markdown",
   "metadata": {},
   "source": [
    "## Train the model"
   ]
  },
  {
   "cell_type": "code",
   "execution_count": 22,
   "metadata": {},
   "outputs": [
    {
     "name": "stdout",
     "output_type": "stream",
     "text": [
      "Epoch: 0, cost: 1.386294\n",
      "Epoch: 1000, cost: 1.380764\n",
      "Epoch: 2000, cost: 1.379273\n",
      "Epoch: 3000, cost: 1.377272\n",
      "Epoch: 4000, cost: 1.376300\n",
      "Epoch: 5000, cost: 1.372964\n",
      "Epoch: 6000, cost: 1.379785\n",
      "Epoch: 7000, cost: 1.384748\n",
      "Epoch: 8000, cost: 1.374896\n",
      "Epoch: 9000, cost: 1.368514\n"
     ]
    }
   ],
   "source": [
    "W = torch.zeros((3, 4), requires_grad=True)\n",
    "b = torch.zeros(4, requires_grad=True)\n",
    "\n",
    "optimizer = optim.SGD([W, b], lr=0.00001)\n",
    "\n",
    "for epoch in range(10000):\n",
    "    optimizer.zero_grad()\n",
    "    z = torch.sigmoid(X.matmul(W) + b)\n",
    "    cost = F.cross_entropy(z, y)\n",
    "    cost.backward()\n",
    "    optimizer.step()\n",
    "\n",
    "    if epoch % (1000) == 0:\n",
    "        print('Epoch: %d, cost: %f' %(epoch, cost))"
   ]
  },
  {
   "cell_type": "markdown",
   "metadata": {},
   "source": [
    "## Print trained W, b"
   ]
  },
  {
   "cell_type": "code",
   "execution_count": 23,
   "metadata": {},
   "outputs": [
    {
     "name": "stdout",
     "output_type": "stream",
     "text": [
      "Weights of the model: [[-8.2383769e-05 -5.0133402e-03  4.4212880e-05  4.6111152e-05]\n",
      " [ 7.5660268e-05 -3.4055281e-02  1.4390679e-04  7.5485295e-05]\n",
      " [ 2.6273117e-03  2.1470943e-03  2.1330188e-03  2.6648673e-03]]\n",
      "Biases of the model: [-2.8347331e-06 -2.4395405e-04  6.3636907e-07  9.1920793e-07]\n"
     ]
    }
   ],
   "source": [
    "print('Weights of the model:', W.detach().numpy())\n",
    "print('Biases of the model:', b.detach().numpy())"
   ]
  }
 ],
 "metadata": {
  "kernelspec": {
   "display_name": "sirius",
   "language": "python",
   "name": "python3"
  },
  "language_info": {
   "codemirror_mode": {
    "name": "ipython",
    "version": 3
   },
   "file_extension": ".py",
   "mimetype": "text/x-python",
   "name": "python",
   "nbconvert_exporter": "python",
   "pygments_lexer": "ipython3",
   "version": "3.8.20"
  }
 },
 "nbformat": 4,
 "nbformat_minor": 2
}
