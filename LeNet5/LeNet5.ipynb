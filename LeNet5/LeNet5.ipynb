{
  "cells": [
    {
      "cell_type": "markdown",
      "metadata": {
        "id": "pMicJJB9uEx7"
      },
      "source": [
        "# MNIST"
      ]
    },
    {
      "cell_type": "markdown",
      "metadata": {
        "id": "ZUudkn8luJmu"
      },
      "source": [
        "## Import Libraries"
      ]
    },
    {
      "cell_type": "code",
      "execution_count": 58,
      "metadata": {
        "id": "WbRkV1B-ua6c"
      },
      "outputs": [],
      "source": [
        "import torch\n",
        "import torch.nn as nn\n",
        "import torchvision.datasets as datasets\n",
        "import torchvision.transforms as transforms\n",
        "import torch.optim as optim\n",
        "import matplotlib.pyplot as plt"
      ]
    },
    {
      "cell_type": "markdown",
      "metadata": {
        "id": "-Sh8ftp6uadn"
      },
      "source": [
        "## Prepare the dataset"
      ]
    },
    {
      "cell_type": "markdown",
      "metadata": {
        "id": "rr2dyswKuPbJ"
      },
      "source": [
        "### Load the dataset"
      ]
    },
    {
      "cell_type": "code",
      "execution_count": 59,
      "metadata": {
        "id": "wIFzVGANt-HO"
      },
      "outputs": [],
      "source": [
        "train_dataset = datasets.MNIST('./data', train=True, download=True,\n",
        "                               transform=transforms.Compose([\n",
        "                                   transforms.Resize((32, 32)),\n",
        "                                   transforms.ToTensor(),\n",
        "                                   transforms.Normalize((0.1307,), (0.3081,))\n",
        "                                   ]))\n",
        "train_loader = torch.utils.data.DataLoader(train_dataset, batch_size=64, shuffle=True)\n",
        "\n",
        "test_dataset = datasets.MNIST('./data', train=False,\n",
        "                             transform=transforms.Compose([\n",
        "                                 transforms.Resize((32, 32)),\n",
        "                                 transforms.ToTensor(),\n",
        "                                 transforms.Normalize((0.1307,), (0.3081,))\n",
        "                                 ]))\n",
        "test_loader = torch.utils.data.DataLoader(test_dataset, batch_size=64, shuffle=True)"
      ]
    },
    {
      "cell_type": "markdown",
      "metadata": {
        "id": "OjwEcUYEJvNC"
      },
      "source": [
        "## Model(LeNet-5)"
      ]
    },
    {
      "cell_type": "code",
      "execution_count": 60,
      "metadata": {
        "id": "YXuS2oxKX6hb"
      },
      "outputs": [],
      "source": [
        "class LeNet5(nn.Module):\n",
        "    def __init__(self):\n",
        "        super(LeNet5, self).__init__()\n",
        "        self.conv_layers = nn.Sequential(\n",
        "            nn.Conv2d(1, 6, 5, stride=1),\n",
        "            nn.Tanh(),\n",
        "            nn.AvgPool2d(2, stride=2),\n",
        "            nn.Conv2d(6, 16, 5, stride=1),\n",
        "            nn.Tanh(),\n",
        "            nn.AvgPool2d(2, stride=2),\n",
        "            nn.Conv2d(16, 120, 5, stride=1),\n",
        "            nn.Tanh(),\n",
        "        )\n",
        "        self.fc_layers = nn.Sequential(\n",
        "            nn.Linear(120, 84),\n",
        "            nn.Tanh(),\n",
        "            nn.Linear(84, 10)\n",
        "        )\n",
        "    def forward(self, x):\n",
        "        x = self.conv_layers(x)\n",
        "        x = x.view(-1, 120)\n",
        "        x = self.fc_layers(x)\n",
        "        return x"
      ]
    },
    {
      "cell_type": "markdown",
      "metadata": {
        "id": "lvry2U4Gmlcg"
      },
      "source": [
        "## Functions to compute the models"
      ]
    },
    {
      "cell_type": "markdown",
      "metadata": {
        "id": "Yvw0Lai6mhH5"
      },
      "source": [
        "### Train"
      ]
    },
    {
      "cell_type": "code",
      "execution_count": 61,
      "metadata": {
        "id": "DqgXjMO0mxRd"
      },
      "outputs": [],
      "source": [
        "def train(model, train_loader, optimizer, loss_function, epoch):\n",
        "    model.train()\n",
        "    train_loss = 0\n",
        "    total = 0\n",
        "    for batch_idx, (data, target) in enumerate(train_loader):\n",
        "        optimizer.zero_grad()\n",
        "        output = model(data)\n",
        "        loss = loss_function(output, target)\n",
        "        loss.backward()\n",
        "        optimizer.step()\n",
        "\n",
        "        train_loss += loss.item() * data.size(0)\n",
        "        total += data.size(0)\n",
        "\n",
        "        if batch_idx % 1000 == 0:\n",
        "            print('Train Epoch: {}\\tLoss: {:.6f}'.format(epoch, loss.item()))\n",
        "\n",
        "    avg_loss = train_loss / total\n",
        "    train_losses.append(avg_loss)\n"
      ]
    },
    {
      "cell_type": "markdown",
      "metadata": {
        "id": "-xY4lr-HmxiV"
      },
      "source": [
        "### Test"
      ]
    },
    {
      "cell_type": "code",
      "execution_count": 62,
      "metadata": {
        "id": "xXysxSqxmykP"
      },
      "outputs": [],
      "source": [
        "def test(model, test_loader, loss_function):\n",
        "    model.eval()\n",
        "    test_loss = 0\n",
        "    correct = 0\n",
        "    total = 0\n",
        "\n",
        "    with torch.no_grad():\n",
        "        for data, target in test_loader:\n",
        "            output = model(data)\n",
        "            loss = loss_function(output, target)\n",
        "            test_loss += loss.item() * data.size(0)  # 총 손실\n",
        "            pred = output.argmax(dim=1, keepdim=True)\n",
        "            correct += pred.eq(target.view_as(pred)).sum().item()\n",
        "            total += data.size(0)\n",
        "\n",
        "    avg_test_loss = test_loss / total\n",
        "    test_losses.append(avg_test_loss)\n",
        "\n",
        "    print('Test set: Average loss: {:.6f}, Accuracy: {}/{} ({:.2f}%)\\n'.format(\n",
        "        avg_test_loss, correct, total,\n",
        "        100. * correct / total))\n"
      ]
    },
    {
      "cell_type": "markdown",
      "metadata": {
        "id": "2b5GdHvc3NIx"
      },
      "source": [
        "### Visualization"
      ]
    },
    {
      "cell_type": "code",
      "execution_count": null,
      "metadata": {
        "id": "PCzR7ARw3Pkv"
      },
      "outputs": [],
      "source": [
        "def plot_loss(train_losses, test_losses, model_name):\n",
        "    plt.figure(figsize=(8, 5))\n",
        "    plt.plot(range(1, len(train_losses) + 1), train_losses, label='Train Loss')\n",
        "    plt.plot(range(1, len(train_losses) + 1), test_losses, label='Test Loss')\n",
        "    plt.xlabel('Epoch')\n",
        "    plt.ylabel('Loss')\n",
        "    plt.title(f'{model_name} Train vs Test Loss')\n",
        "    plt.legend()\n",
        "    plt.show()"
      ]
    },
    {
      "cell_type": "markdown",
      "metadata": {
        "id": "dJXDHzu4d4EB"
      },
      "source": [
        "## Main"
      ]
    },
    {
      "cell_type": "code",
      "execution_count": 63,
      "metadata": {
        "colab": {
          "base_uri": "https://localhost:8080/"
        },
        "id": "wipa-APkd5op",
        "outputId": "fc89bb75-a6d8-488e-c3ff-e1ea1e0794dd"
      },
      "outputs": [
        {
          "name": "stdout",
          "output_type": "stream",
          "text": [
            "Train Epoch: 0\tLoss: 2.300829\n",
            "Test set: Average loss: 0.155799, Accuracy: 9517/10000 (95.17%)\n",
            "\n",
            "Train Epoch: 1\tLoss: 0.080284\n",
            "Test set: Average loss: 0.156108, Accuracy: 9551/10000 (95.51%)\n",
            "\n",
            "Train Epoch: 2\tLoss: 0.189113\n",
            "Test set: Average loss: 0.130307, Accuracy: 9612/10000 (96.12%)\n",
            "\n",
            "Train Epoch: 3\tLoss: 0.072650\n",
            "Test set: Average loss: 0.115760, Accuracy: 9638/10000 (96.38%)\n",
            "\n",
            "Train Epoch: 4\tLoss: 0.103538\n",
            "Test set: Average loss: 0.123739, Accuracy: 9634/10000 (96.34%)\n",
            "\n",
            "Train Epoch: 5\tLoss: 0.123110\n",
            "Test set: Average loss: 0.131302, Accuracy: 9597/10000 (95.97%)\n",
            "\n",
            "Train Epoch: 6\tLoss: 0.170559\n",
            "Test set: Average loss: 0.125390, Accuracy: 9638/10000 (96.38%)\n",
            "\n",
            "Train Epoch: 7\tLoss: 0.078603\n",
            "Test set: Average loss: 0.128920, Accuracy: 9603/10000 (96.03%)\n",
            "\n",
            "Train Epoch: 8\tLoss: 0.036443\n",
            "Test set: Average loss: 0.141312, Accuracy: 9602/10000 (96.02%)\n",
            "\n",
            "Train Epoch: 9\tLoss: 0.090570\n",
            "Test set: Average loss: 0.118355, Accuracy: 9659/10000 (96.59%)\n",
            "\n"
          ]
        }
      ],
      "source": [
        "batch_size = 64\n",
        "epochs = 10\n",
        "\n",
        "models = ['LeNet5', 'LeNet5_ReLU']\n",
        "\n",
        "for model in models:\n",
        "    optimizer = optim.Adam(model.parameters(), lr=0.01)\n",
        "    loss_function = nn.CrossEntropyLoss()\n",
        "\n",
        "    train_losses = []\n",
        "    test_losses = []\n",
        "\n",
        "    for epoch in range(epochs):\n",
        "        train(model, train_loader, optimizer, loss_function, epoch)\n",
        "        test(model, test_loader, loss_function)"
      ]
    },
    {
      "cell_type": "code",
      "execution_count": 64,
      "metadata": {
        "colab": {
          "base_uri": "https://localhost:8080/",
          "height": 487
        },
        "id": "Fra4J733vzov",
        "outputId": "cd65ed20-5568-463c-836e-edb96b8363c3"
      },
      "outputs": [
        {
          "data": {
            "image/png": "[encoded data removed]",
            "text/plain": [
              "<Figure size 800x500 with 1 Axes>"
            ]
          },
          "metadata": {},
          "output_type": "display_data"
        }
      ],
      "source": [
        "plt.figure(figsize=(8, 5))\n",
        "plt.plot(range(1, len(train_losses) + 1), train_losses, label='Train Loss')\n",
        "plt.plot(range(1, len(train_losses) + 1), test_losses, label='Test Loss')\n",
        "plt.xlabel('Epoch')\n",
        "plt.ylabel('Loss')\n",
        "plt.title('Train vs Test Loss')\n",
        "plt.legend()\n",
        "plt.show()"
      ]
    }
  ],
  "metadata": {
    "accelerator": "GPU",
    "colab": {
      "gpuType": "T4",
      "provenance": []
    },
    "kernelspec": {
      "display_name": "Python 3",
      "name": "python3"
    },
    "language_info": {
      "name": "python"
    }
  },
  "nbformat": 4,
  "nbformat_minor": 0
}
