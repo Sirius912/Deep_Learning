{
  "nbformat": 4,
  "nbformat_minor": 0,
  "metadata": {
    "colab": {
      "provenance": []
    },
    "kernelspec": {
      "name": "python3",
      "display_name": "Python 3"
    },
    "language_info": {
      "name": "python"
    }
  },
  "cells": [
    {
      "cell_type": "markdown",
      "source": [
        "# MNIST"
      ],
      "metadata": {
        "id": "pMicJJB9uEx7"
      }
    },
    {
      "cell_type": "markdown",
      "source": [
        "## Import Libraries"
      ],
      "metadata": {
        "id": "ZUudkn8luJmu"
      }
    },
    {
      "cell_type": "code",
      "source": [
        "import torch\n",
        "import torch.nn as nn\n",
        "import torchvision.datasets as datasets\n",
        "import torchvision.transforms as transforms\n",
        "import torch.optim as optim"
      ],
      "metadata": {
        "id": "WbRkV1B-ua6c"
      },
      "execution_count": 11,
      "outputs": []
    },
    {
      "cell_type": "markdown",
      "source": [
        "## Prepare the dataset"
      ],
      "metadata": {
        "id": "-Sh8ftp6uadn"
      }
    },
    {
      "cell_type": "markdown",
      "source": [
        "### Load the dataset"
      ],
      "metadata": {
        "id": "rr2dyswKuPbJ"
      }
    },
    {
      "cell_type": "code",
      "execution_count": 12,
      "metadata": {
        "id": "wIFzVGANt-HO"
      },
      "outputs": [],
      "source": [
        "train_dataset = datasets.MNIST('./data', train=True, download=True,\n",
        "                               transform=transforms.Compose([\n",
        "                                   transforms.ToTensor(),\n",
        "                                   transforms.Normalize((0.1307,), (0.3081,))\n",
        "                                   ]))\n",
        "train_loader = torch.utils.data.DataLoader(train_dataset, batch_size=64, shuffle=True)\n",
        "\n",
        "test_dataset = datasets.MNIST('./data', train=False,\n",
        "                             transform=transforms.Compose([\n",
        "                                 transforms.ToTensor(),\n",
        "                                 transforms.Normalize((0.1307,), (0.3081,))\n",
        "                                 ]))\n",
        "test_loader = torch.utils.data.DataLoader(test_dataset, batch_size=64, shuffle=True)"
      ]
    },
    {
      "cell_type": "markdown",
      "source": [
        "## Model(LeNet-5)"
      ],
      "metadata": {
        "id": "OjwEcUYEJvNC"
      }
    },
    {
      "cell_type": "code",
      "source": [
        "class LeNet5_1(nn.Module):\n",
        "    def __init__(self):\n",
        "        super(LeNet5_1, self).__init__()\n",
        "        self.conv_1 = nn.Conv2d(1, 6, kernel_size=5, stride=1)\n",
        "        self.avgpool = nn.AvgPool2d(kernel_size=2, stride=2)\n",
        "        self.conv_2 = nn.Conv2d(6, 16, kernel_size=5, stride=1)\n",
        "        self.conv_3 = nn.Conv2d(16, 120, kernel_size=5, stride=1)\n",
        "        self.tanh = nn.Tanh()\n",
        "        self.fc_1 = nn.Linear(120, 84)\n",
        "        self.fc_2 = nn.Linear(84, 10)\n",
        "\n",
        "    def forward(self, x):\n",
        "        x = self.conv_1(x)\n",
        "        x = self.tanh(x)\n",
        "        x = self.avgpool(x)\n",
        "        x = self.conv_2(x)\n",
        "        x = self.tanh(x)\n",
        "        x = self.avgpool(x)\n",
        "        x = self.conv_3(x)\n",
        "        x = self.tanh(x)\n",
        "        x = self.fc_1(x)\n",
        "        x = self.tanh(x)\n",
        "        res = self.fc_2(x)\n",
        "        return res"
      ],
      "metadata": {
        "id": "Mt7ZC8nUJzHP"
      },
      "execution_count": 13,
      "outputs": []
    },
    {
      "cell_type": "code",
      "source": [
        "class LeNet5_2(nn.Module):\n",
        "    def __init__(self):\n",
        "        super(LeNet5_2, self).__init__()\n",
        "        self.conv_layers = nn.Sequential(\n",
        "            nn.Conv2d(1, 6, 5, stride=1),\n",
        "            nn.Tanh(),\n",
        "            nn.AvgPool2d(2, stride=2),\n",
        "            nn.Conv2d(6, 16, 5, stride=1),\n",
        "            nn.Tanh(),\n",
        "            nn.AvgPool2d(2, stride=2),\n",
        "            nn.Conv2d(16, 120, 5, stride=1),\n",
        "            nn.Tanh(),\n",
        "        )\n",
        "        self.fc_layers = nn.Sequential(\n",
        "            nn.Linear(120, 84),\n",
        "            nn.Tanh(),\n",
        "            nn.Linear(84, 10)\n",
        "        )\n",
        "    def forward(self, x):\n",
        "        x = self.conv_layers(x)\n",
        "        x = x.view(-1, 120)\n",
        "        x = self.fc_layers(x)\n",
        "        return x"
      ],
      "metadata": {
        "id": "YXuS2oxKX6hb"
      },
      "execution_count": 14,
      "outputs": []
    },
    {
      "cell_type": "markdown",
      "source": [
        "## Main"
      ],
      "metadata": {
        "id": "dJXDHzu4d4EB"
      }
    },
    {
      "cell_type": "code",
      "source": [
        "batch_size = 64\n",
        "epochs = 1000\n",
        "\n",
        "model = LeNet5_2()\n",
        "\n",
        "optimizer = optim.Adam(model.parameters(), lr=0.01)\n",
        "loss_function = nn.CrossEntropyLoss()"
      ],
      "metadata": {
        "id": "wipa-APkd5op"
      },
      "execution_count": 15,
      "outputs": []
    }
  ]
}