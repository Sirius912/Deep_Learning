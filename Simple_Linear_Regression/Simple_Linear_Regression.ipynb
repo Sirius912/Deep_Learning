{
 "cells": [
  {
   "cell_type": "markdown",
   "metadata": {},
   "source": [
    "# Simple Linear Regression"
   ]
  },
  {
   "cell_type": "markdown",
   "metadata": {},
   "source": [
    "## Import Libraries"
   ]
  },
  {
   "cell_type": "code",
   "execution_count": 1,
   "metadata": {},
   "outputs": [],
   "source": [
    "import numpy as np\n",
    "import pandas as pd\n",
    "import torch\n",
    "import optuna\n",
    "import torch.optim as optim\n",
    "import matplotlib.pyplot as plt\n",
    "from sklearn.model_selection import train_test_split\n",
    "from sklearn.preprocessing import StandardScaler"
   ]
  },
  {
   "cell_type": "markdown",
   "metadata": {},
   "source": [
    "## Prepare the dataset"
   ]
  },
  {
   "cell_type": "markdown",
   "metadata": {},
   "source": [
    "### Load the dataset"
   ]
  },
  {
   "cell_type": "code",
   "execution_count": 2,
   "metadata": {},
   "outputs": [
    {
     "data": {
      "text/html": [
       "<div>\n",
       "<style scoped>\n",
       "    .dataframe tbody tr th:only-of-type {\n",
       "        vertical-align: middle;\n",
       "    }\n",
       "\n",
       "    .dataframe tbody tr th {\n",
       "        vertical-align: top;\n",
       "    }\n",
       "\n",
       "    .dataframe thead th {\n",
       "        text-align: right;\n",
       "    }\n",
       "</style>\n",
       "<table border=\"1\" class=\"dataframe\">\n",
       "  <thead>\n",
       "    <tr style=\"text-align: right;\">\n",
       "      <th></th>\n",
       "      <th>SAT</th>\n",
       "      <th>GPA</th>\n",
       "    </tr>\n",
       "  </thead>\n",
       "  <tbody>\n",
       "    <tr>\n",
       "      <th>0</th>\n",
       "      <td>1714</td>\n",
       "      <td>2.40</td>\n",
       "    </tr>\n",
       "    <tr>\n",
       "      <th>1</th>\n",
       "      <td>1664</td>\n",
       "      <td>2.52</td>\n",
       "    </tr>\n",
       "    <tr>\n",
       "      <th>2</th>\n",
       "      <td>1760</td>\n",
       "      <td>2.54</td>\n",
       "    </tr>\n",
       "    <tr>\n",
       "      <th>3</th>\n",
       "      <td>1685</td>\n",
       "      <td>2.74</td>\n",
       "    </tr>\n",
       "    <tr>\n",
       "      <th>4</th>\n",
       "      <td>1693</td>\n",
       "      <td>2.83</td>\n",
       "    </tr>\n",
       "    <tr>\n",
       "      <th>...</th>\n",
       "      <td>...</td>\n",
       "      <td>...</td>\n",
       "    </tr>\n",
       "    <tr>\n",
       "      <th>95</th>\n",
       "      <td>1934</td>\n",
       "      <td>3.54</td>\n",
       "    </tr>\n",
       "    <tr>\n",
       "      <th>96</th>\n",
       "      <td>1861</td>\n",
       "      <td>3.58</td>\n",
       "    </tr>\n",
       "    <tr>\n",
       "      <th>97</th>\n",
       "      <td>1931</td>\n",
       "      <td>3.58</td>\n",
       "    </tr>\n",
       "    <tr>\n",
       "      <th>98</th>\n",
       "      <td>1933</td>\n",
       "      <td>3.59</td>\n",
       "    </tr>\n",
       "    <tr>\n",
       "      <th>99</th>\n",
       "      <td>1778</td>\n",
       "      <td>3.59</td>\n",
       "    </tr>\n",
       "  </tbody>\n",
       "</table>\n",
       "<p>100 rows × 2 columns</p>\n",
       "</div>"
      ],
      "text/plain": [
       "     SAT   GPA\n",
       "0   1714  2.40\n",
       "1   1664  2.52\n",
       "2   1760  2.54\n",
       "3   1685  2.74\n",
       "4   1693  2.83\n",
       "..   ...   ...\n",
       "95  1934  3.54\n",
       "96  1861  3.58\n",
       "97  1931  3.58\n",
       "98  1933  3.59\n",
       "99  1778  3.59\n",
       "\n",
       "[100 rows x 2 columns]"
      ]
     },
     "execution_count": 2,
     "metadata": {},
     "output_type": "execute_result"
    }
   ],
   "source": [
    "data = pd.read_csv('sat_gpa.csv')\n",
    "data"
   ]
  },
  {
   "cell_type": "markdown",
   "metadata": {},
   "source": [
    "### Split the dataset"
   ]
  },
  {
   "cell_type": "code",
   "execution_count": 3,
   "metadata": {},
   "outputs": [
    {
     "name": "stdout",
     "output_type": "stream",
     "text": [
      "x_train shape: (80,)\n",
      "y_train shape: (80,)\n",
      "x_test shape: (20,)\n",
      "y_test shape (20,)\n"
     ]
    }
   ],
   "source": [
    "X = data['SAT'].values\n",
    "y = data['GPA'].values\n",
    "\n",
    "x_train, x_test, y_train, y_test = train_test_split(X, y, test_size=0.2, shuffle=True)\n",
    "\n",
    "print('x_train shape:', x_train.shape)\n",
    "print('y_train shape:', y_train.shape)\n",
    "print('x_test shape:', x_test.shape)\n",
    "print('y_test shape', y_test.shape)"
   ]
  },
  {
   "cell_type": "markdown",
   "metadata": {},
   "source": [
    "### Convert into 2D"
   ]
  },
  {
   "cell_type": "code",
   "execution_count": 4,
   "metadata": {},
   "outputs": [],
   "source": [
    "x_train = x_train.reshape(-1, 1)\n",
    "x_test = x_test.reshape(-1, 1)\n",
    "\n",
    "y_train = y_train.reshape(-1, 1)\n",
    "y_test = y_test.reshape(-1, 1)"
   ]
  },
  {
   "cell_type": "markdown",
   "metadata": {},
   "source": [
    "### Normalize the dataset"
   ]
  },
  {
   "cell_type": "code",
   "execution_count": 5,
   "metadata": {},
   "outputs": [],
   "source": [
    "x_scaler = StandardScaler()\n",
    "\n",
    "x_train = x_scaler.fit_transform(x_train)\n",
    "x_test = x_scaler.transform(x_test)"
   ]
  },
  {
   "cell_type": "markdown",
   "metadata": {},
   "source": [
    "### Convert into Tensor"
   ]
  },
  {
   "cell_type": "code",
   "execution_count": 6,
   "metadata": {},
   "outputs": [],
   "source": [
    "x_train = torch.FloatTensor(x_train)\n",
    "x_test = torch.FloatTensor(x_test)\n",
    "y_train = torch.FloatTensor(y_train)\n",
    "y_test = torch.FloatTensor(y_test)"
   ]
  },
  {
   "cell_type": "code",
   "execution_count": 7,
   "metadata": {},
   "outputs": [
    {
     "name": "stdout",
     "output_type": "stream",
     "text": [
      "x_train shape: torch.Size([80, 1])\n",
      "y_train shape: torch.Size([80, 1])\n",
      "x_test shape: torch.Size([20, 1])\n",
      "y_test shape torch.Size([20, 1])\n"
     ]
    }
   ],
   "source": [
    "print('x_train shape:', x_train.shape)\n",
    "print('y_train shape:', y_train.shape)\n",
    "print('x_test shape:', x_test.shape)\n",
    "print('y_test shape', y_test.shape)"
   ]
  },
  {
   "cell_type": "markdown",
   "metadata": {},
   "source": [
    "## Plot the dataset"
   ]
  },
  {
   "cell_type": "code",
   "execution_count": 8,
   "metadata": {},
   "outputs": [
    {
     "data": {
      "image/png": "[encoded data removed]",
      "text/plain": [
       "<Figure size 640x480 with 1 Axes>"
      ]
     },
     "metadata": {},
     "output_type": "display_data"
    }
   ],
   "source": [
    "plt.scatter(x_scaler.inverse_transform(x_train), y_train)\n",
    "plt.xlabel('SAT')\n",
    "plt.ylabel('GPA')\n",
    "plt.show()"
   ]
  },
  {
   "cell_type": "markdown",
   "metadata": {},
   "source": [
    "## Functions to compute the models"
   ]
  },
  {
   "cell_type": "markdown",
   "metadata": {},
   "source": [
    "### To optimize parameters using optuna"
   ]
  },
  {
   "cell_type": "code",
   "execution_count": 9,
   "metadata": {},
   "outputs": [],
   "source": [
    "def objective(trial, X, y):\n",
    "    num_epochs = trial.suggest_categorical('epoch_num', [100, 1000, 10000])\n",
    "    lr = trial.suggest_categorical('lr', [0.01, 0.001, 0.0001, 0.00001])\n",
    "\n",
    "    # define paremeters\n",
    "    W = torch.zeros((1, 1), requires_grad=True)\n",
    "    b = torch.zeros(1, requires_grad=True)\n",
    "\n",
    "    cost = train_model(X, y, W, b, num_epochs, lr, True)\n",
    "\n",
    "    trial.report(cost, num_epochs)\n",
    "    print(f'Trial {trial.number} - Epoch: {num_epochs}, lr: {lr}, Cost: {cost}')\n",
    "\n",
    "    return cost"
   ]
  },
  {
   "cell_type": "markdown",
   "metadata": {},
   "source": [
    "### To train the model"
   ]
  },
  {
   "cell_type": "code",
   "execution_count": 10,
   "metadata": {},
   "outputs": [],
   "source": [
    "def train_model(X, y, W, b, num_epochs, lr, check_optuna):\n",
    "    optimizer = optim.SGD([W, b], lr=lr)\n",
    "\n",
    "    costs = []\n",
    "    for epoch in range(num_epochs):\n",
    "        hypothesis = X * W + b\n",
    "        cost = torch.mean((hypothesis - y) ** 2)\n",
    "\n",
    "        if check_optuna == True:\n",
    "            if torch.isnan(cost) or torch.isinf(cost):\n",
    "                raise optuna.TrialPruned()\n",
    "        \n",
    "        optimizer.zero_grad()\n",
    "        cost.backward()\n",
    "        optimizer.step()\n",
    "\n",
    "        if check_optuna == False:\n",
    "            costs.append(cost.item())\n",
    "            if epoch % (num_epochs // 10) == 0:\n",
    "                print(f'Epoch: {epoch}/{num_epochs} - Cost: {cost.item()}')\n",
    "\n",
    "    if check_optuna == False:\n",
    "        return costs, hypothesis\n",
    "    else:\n",
    "        return cost.item()"
   ]
  },
  {
   "cell_type": "markdown",
   "metadata": {},
   "source": [
    "## Study optuna"
   ]
  },
  {
   "cell_type": "code",
   "execution_count": 11,
   "metadata": {},
   "outputs": [
    {
     "name": "stdout",
     "output_type": "stream",
     "text": [
      "Trial 0 - Epoch: 10000, lr: 0.01, Cost: 0.04251839965581894\n",
      "Trial 1 - Epoch: 100, lr: 1e-05, Cost: 11.344199180603027\n",
      "Trial 2 - Epoch: 100, lr: 1e-05, Cost: 11.344199180603027\n",
      "Trial 3 - Epoch: 10000, lr: 1e-05, Cost: 7.648592948913574\n",
      "Trial 4 - Epoch: 10000, lr: 1e-05, Cost: 7.648592948913574\n",
      "Trial 5 - Epoch: 100, lr: 1e-05, Cost: 11.344199180603027\n",
      "Trial 6 - Epoch: 100, lr: 0.01, Cost: 0.2503093183040619\n",
      "Trial 7 - Epoch: 10000, lr: 0.001, Cost: 0.04251839965581894\n",
      "Trial 8 - Epoch: 1000, lr: 0.0001, Cost: 7.65106201171875\n",
      "Trial 9 - Epoch: 1000, lr: 0.001, Cost: 0.2503376305103302\n",
      "Trial 10 - Epoch: 10000, lr: 0.01, Cost: 0.04251839965581894\n",
      "Trial 11 - Epoch: 10000, lr: 0.001, Cost: 0.04251839965581894\n",
      "Trial 12 - Epoch: 10000, lr: 0.01, Cost: 0.04251839965581894\n",
      "Trial 13 - Epoch: 10000, lr: 0.001, Cost: 0.04251839965581894\n",
      "Trial 14 - Epoch: 10000, lr: 0.0001, Cost: 0.2503378689289093\n",
      "Trial 15 - Epoch: 10000, lr: 0.001, Cost: 0.04251839965581894\n",
      "Trial 16 - Epoch: 1000, lr: 0.01, Cost: 0.04251839965581894\n",
      "Trial 17 - Epoch: 10000, lr: 0.001, Cost: 0.04251839965581894\n",
      "Trial 18 - Epoch: 10000, lr: 0.01, Cost: 0.04251839965581894\n",
      "Trial 19 - Epoch: 1000, lr: 0.0001, Cost: 7.65106201171875\n",
      "Trial 20 - Epoch: 10000, lr: 0.001, Cost: 0.04251839965581894\n",
      "Trial 21 - Epoch: 10000, lr: 0.01, Cost: 0.04251839965581894\n",
      "Trial 22 - Epoch: 10000, lr: 0.01, Cost: 0.04251839965581894\n",
      "Trial 23 - Epoch: 10000, lr: 0.01, Cost: 0.04251839965581894\n",
      "Trial 24 - Epoch: 10000, lr: 0.01, Cost: 0.04251839965581894\n",
      "Trial 25 - Epoch: 10000, lr: 0.01, Cost: 0.04251839965581894\n",
      "Trial 26 - Epoch: 10000, lr: 0.01, Cost: 0.04251839965581894\n",
      "Trial 27 - Epoch: 10000, lr: 0.001, Cost: 0.04251839965581894\n",
      "Trial 28 - Epoch: 1000, lr: 0.0001, Cost: 7.65106201171875\n",
      "Trial 29 - Epoch: 100, lr: 0.01, Cost: 0.2503093183040619\n"
     ]
    }
   ],
   "source": [
    "optuna.logging.set_verbosity(optuna.logging.WARNING)\n",
    "\n",
    "study = optuna.create_study(direction='minimize')\n",
    "study.optimize(lambda trial: objective(trial, x_train, y_train), n_trials=30)"
   ]
  },
  {
   "cell_type": "markdown",
   "metadata": {},
   "source": [
    "## Best Parameters"
   ]
  },
  {
   "cell_type": "code",
   "execution_count": 12,
   "metadata": {},
   "outputs": [
    {
     "name": "stdout",
     "output_type": "stream",
     "text": [
      "Best parameters: {'epoch_num': 10000, 'lr': 0.01}\n"
     ]
    }
   ],
   "source": [
    "best_params = study.best_params\n",
    "print('Best parameters:', best_params)\n",
    "\n",
    "best_epoch = best_params['epoch_num']\n",
    "best_lr = best_params['lr']"
   ]
  },
  {
   "cell_type": "markdown",
   "metadata": {},
   "source": [
    "## Train the model with best parameters"
   ]
  },
  {
   "cell_type": "code",
   "execution_count": 13,
   "metadata": {},
   "outputs": [
    {
     "name": "stdout",
     "output_type": "stream",
     "text": [
      "Epoch: 0/10000 - Cost: 11.240280151367188\n",
      "Epoch: 1000/10000 - Cost: 0.03596185892820358\n",
      "Epoch: 2000/10000 - Cost: 0.03596185892820358\n",
      "Epoch: 3000/10000 - Cost: 0.03596185892820358\n",
      "Epoch: 4000/10000 - Cost: 0.03596185892820358\n",
      "Epoch: 5000/10000 - Cost: 0.03596185892820358\n",
      "Epoch: 6000/10000 - Cost: 0.03596185892820358\n",
      "Epoch: 7000/10000 - Cost: 0.03596185892820358\n",
      "Epoch: 8000/10000 - Cost: 0.03596185892820358\n",
      "Epoch: 9000/10000 - Cost: 0.03596185892820358\n"
     ]
    }
   ],
   "source": [
    "W = torch.zeros(1, requires_grad=True)\n",
    "b = torch.zeros(1, requires_grad=True)\n",
    "\n",
    "costs, hypothesis = train_model(x_test, y_test, W, b, best_epoch, best_lr, False)"
   ]
  },
  {
   "cell_type": "markdown",
   "metadata": {},
   "source": [
    "## Plot the cost with epoch"
   ]
  },
  {
   "cell_type": "code",
   "execution_count": 14,
   "metadata": {},
   "outputs": [
    {
     "data": {
      "image/png": "[encoded data removed]",
      "text/plain": [
       "<Figure size 640x480 with 1 Axes>"
      ]
     },
     "metadata": {},
     "output_type": "display_data"
    }
   ],
   "source": [
    "plt.plot(range(best_epoch), costs)\n",
    "plt.xlabel('Epoch')\n",
    "plt.ylabel('Cost')\n",
    "plt.title('Cost with epoch')\n",
    "plt.show()"
   ]
  },
  {
   "cell_type": "markdown",
   "metadata": {},
   "source": [
    "## Plot the model"
   ]
  },
  {
   "cell_type": "code",
   "execution_count": 15,
   "metadata": {},
   "outputs": [
    {
     "data": {
      "image/png": "[encoded data removed]",
      "text/plain": [
       "<Figure size 640x480 with 1 Axes>"
      ]
     },
     "metadata": {},
     "output_type": "display_data"
    }
   ],
   "source": [
    "plt.scatter(x_scaler.inverse_transform(x_train), y_train)\n",
    "plt.plot(x_scaler.inverse_transform(x_test), hypothesis.detach().numpy().flatten(), color='red')\n",
    "plt.xlabel('SAT')\n",
    "plt.ylabel('GPA')\n",
    "plt.title('Dataset with the model')\n",
    "plt.show()"
   ]
  },
  {
   "cell_type": "markdown",
   "metadata": {},
   "source": [
    "## Print trained W, b"
   ]
  },
  {
   "cell_type": "code",
   "execution_count": 16,
   "metadata": {},
   "outputs": [
    {
     "name": "stdout",
     "output_type": "stream",
     "text": [
      "Weights of the model: 0.17881625890731812\n",
      "Bias of the model: 3.341346025466919\n"
     ]
    }
   ],
   "source": [
    "print('Weights of the model:', W.item())\n",
    "print('Bias of the model:', b.item())"
   ]
  },
  {
   "cell_type": "markdown",
   "metadata": {},
   "source": [
    "## Plot loss graph (Train loss, Test loss)"
   ]
  },
  {
   "cell_type": "code",
   "execution_count": null,
   "metadata": {},
   "outputs": [],
   "source": []
  },
  {
   "cell_type": "markdown",
   "metadata": {},
   "source": [
    "## Test the performance of the model"
   ]
  },
  {
   "cell_type": "code",
   "execution_count": null,
   "metadata": {},
   "outputs": [],
   "source": []
  }
 ],
 "metadata": {
  "kernelspec": {
   "display_name": "sirius",
   "language": "python",
   "name": "python3"
  },
  "language_info": {
   "codemirror_mode": {
    "name": "ipython",
    "version": 3
   },
   "file_extension": ".py",
   "mimetype": "text/x-python",
   "name": "python",
   "nbconvert_exporter": "python",
   "pygments_lexer": "ipython3",
   "version": "3.8.20"
  }
 },
 "nbformat": 4,
 "nbformat_minor": 2
}
