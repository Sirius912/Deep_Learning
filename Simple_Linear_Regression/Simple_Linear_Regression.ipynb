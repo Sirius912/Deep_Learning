{
 "cells": [
  {
   "cell_type": "markdown",
   "metadata": {},
   "source": [
    "# Simple Linear Regression\n",
    "#### The normalization and splitting dataset into train and test sets are essential. However, in the case of this dataset, due to its small size, these steps were not performed."
   ]
  },
  {
   "cell_type": "markdown",
   "metadata": {},
   "source": [
    "## Import Libraries"
   ]
  },
  {
   "cell_type": "code",
   "execution_count": 215,
   "metadata": {},
   "outputs": [],
   "source": [
    "import numpy as np\n",
    "import pandas as pd\n",
    "import torch\n",
    "import optuna\n",
    "import torch.optim as optim\n",
    "import matplotlib.pyplot as plt\n",
    "from sklearn.model_selection import train_test_split\n",
    "from sklearn.preprocessing import StandardScaler"
   ]
  },
  {
   "cell_type": "markdown",
   "metadata": {},
   "source": [
    "## Prepare the dataset"
   ]
  },
  {
   "cell_type": "markdown",
   "metadata": {},
   "source": [
    "### Load the dataset"
   ]
  },
  {
   "cell_type": "code",
   "execution_count": 216,
   "metadata": {},
   "outputs": [
    {
     "data": {
      "text/html": [
       "<div>\n",
       "<style scoped>\n",
       "    .dataframe tbody tr th:only-of-type {\n",
       "        vertical-align: middle;\n",
       "    }\n",
       "\n",
       "    .dataframe tbody tr th {\n",
       "        vertical-align: top;\n",
       "    }\n",
       "\n",
       "    .dataframe thead th {\n",
       "        text-align: right;\n",
       "    }\n",
       "</style>\n",
       "<table border=\"1\" class=\"dataframe\">\n",
       "  <thead>\n",
       "    <tr style=\"text-align: right;\">\n",
       "      <th></th>\n",
       "      <th>SAT</th>\n",
       "      <th>GPA</th>\n",
       "    </tr>\n",
       "  </thead>\n",
       "  <tbody>\n",
       "    <tr>\n",
       "      <th>0</th>\n",
       "      <td>1714</td>\n",
       "      <td>2.40</td>\n",
       "    </tr>\n",
       "    <tr>\n",
       "      <th>1</th>\n",
       "      <td>1664</td>\n",
       "      <td>2.52</td>\n",
       "    </tr>\n",
       "    <tr>\n",
       "      <th>2</th>\n",
       "      <td>1760</td>\n",
       "      <td>2.54</td>\n",
       "    </tr>\n",
       "    <tr>\n",
       "      <th>3</th>\n",
       "      <td>1685</td>\n",
       "      <td>2.74</td>\n",
       "    </tr>\n",
       "    <tr>\n",
       "      <th>4</th>\n",
       "      <td>1693</td>\n",
       "      <td>2.83</td>\n",
       "    </tr>\n",
       "    <tr>\n",
       "      <th>...</th>\n",
       "      <td>...</td>\n",
       "      <td>...</td>\n",
       "    </tr>\n",
       "    <tr>\n",
       "      <th>95</th>\n",
       "      <td>1934</td>\n",
       "      <td>3.54</td>\n",
       "    </tr>\n",
       "    <tr>\n",
       "      <th>96</th>\n",
       "      <td>1861</td>\n",
       "      <td>3.58</td>\n",
       "    </tr>\n",
       "    <tr>\n",
       "      <th>97</th>\n",
       "      <td>1931</td>\n",
       "      <td>3.58</td>\n",
       "    </tr>\n",
       "    <tr>\n",
       "      <th>98</th>\n",
       "      <td>1933</td>\n",
       "      <td>3.59</td>\n",
       "    </tr>\n",
       "    <tr>\n",
       "      <th>99</th>\n",
       "      <td>1778</td>\n",
       "      <td>3.59</td>\n",
       "    </tr>\n",
       "  </tbody>\n",
       "</table>\n",
       "<p>100 rows × 2 columns</p>\n",
       "</div>"
      ],
      "text/plain": [
       "     SAT   GPA\n",
       "0   1714  2.40\n",
       "1   1664  2.52\n",
       "2   1760  2.54\n",
       "3   1685  2.74\n",
       "4   1693  2.83\n",
       "..   ...   ...\n",
       "95  1934  3.54\n",
       "96  1861  3.58\n",
       "97  1931  3.58\n",
       "98  1933  3.59\n",
       "99  1778  3.59\n",
       "\n",
       "[100 rows x 2 columns]"
      ]
     },
     "execution_count": 216,
     "metadata": {},
     "output_type": "execute_result"
    }
   ],
   "source": [
    "data = pd.read_csv('sat_gpa.csv')\n",
    "data"
   ]
  },
  {
   "cell_type": "markdown",
   "metadata": {},
   "source": [
    "### Split the dataset"
   ]
  },
  {
   "cell_type": "code",
   "execution_count": 217,
   "metadata": {},
   "outputs": [
    {
     "name": "stdout",
     "output_type": "stream",
     "text": [
      "x_train shape: (80,)\n",
      "y_train shape: (80,)\n",
      "x_test shape: (20,)\n",
      "y_test shape (20,)\n"
     ]
    }
   ],
   "source": [
    "X = data['SAT'].values\n",
    "y = data['GPA'].values\n",
    "\n",
    "x_train, x_test, y_train, y_test = train_test_split(X, y, test_size=0.2, shuffle=True)\n",
    "\n",
    "print('x_train shape:', x_train.shape)\n",
    "print('y_train shape:', y_train.shape)\n",
    "print('x_test shape:', x_test.shape)\n",
    "print('y_test shape', y_test.shape)"
   ]
  },
  {
   "cell_type": "markdown",
   "metadata": {},
   "source": [
    "### Normalize the dataset"
   ]
  },
  {
   "cell_type": "code",
   "execution_count": 218,
   "metadata": {},
   "outputs": [],
   "source": [
    "x_scaler = StandardScaler()\n",
    "y_scaler = StandardScaler()\n",
    "\n",
    "x_train = x_scaler.fit_transform(x_train.reshape(-1, 1))\n",
    "x_test = x_scaler.transform(x_test.reshape(-1, 1))\n",
    "\n",
    "y_train = y_scaler.fit_transform(y_train.reshape(-1, 1))\n",
    "y_test = y_scaler.transform(y_test.reshape(-1, 1))"
   ]
  },
  {
   "cell_type": "markdown",
   "metadata": {},
   "source": [
    "### Convert into Tensor"
   ]
  },
  {
   "cell_type": "code",
   "execution_count": 219,
   "metadata": {},
   "outputs": [],
   "source": [
    "x_train = torch.FloatTensor(x_train)\n",
    "x_test = torch.FloatTensor(x_test)\n",
    "y_train = torch.FloatTensor(y_train)\n",
    "y_test = torch.FloatTensor(y_test)"
   ]
  },
  {
   "cell_type": "markdown",
   "metadata": {},
   "source": [
    "## Plot the dataset"
   ]
  },
  {
   "cell_type": "code",
   "execution_count": 220,
   "metadata": {},
   "outputs": [
    {
     "data": {
      "image/png": "[encoded data removed]",
      "text/plain": [
       "<Figure size 640x480 with 1 Axes>"
      ]
     },
     "metadata": {},
     "output_type": "display_data"
    }
   ],
   "source": [
    "plt.scatter(x_scaler.inverse_transform(x_train), y_scaler.inverse_transform(y_train))\n",
    "plt.grid(True)\n",
    "plt.xlabel('SAT')\n",
    "plt.ylabel('GPA')\n",
    "plt.show()"
   ]
  },
  {
   "cell_type": "markdown",
   "metadata": {},
   "source": [
    "## Functions to compute the models"
   ]
  },
  {
   "cell_type": "markdown",
   "metadata": {},
   "source": [
    "### To optimize parameters using optuna"
   ]
  },
  {
   "cell_type": "code",
   "execution_count": 221,
   "metadata": {},
   "outputs": [],
   "source": [
    "def objective(trial, X, y):\n",
    "    num_epochs = trial.suggest_categorical('epoch_num', [100, 1000, 10000])\n",
    "    lr = trial.suggest_categorical('lr', [0.1, 0.01, 0.001, 0.0001, 0.00001])\n",
    "\n",
    "    # define paremeters\n",
    "    W = torch.zeros(1, requires_grad=True)\n",
    "    b = torch.zeros(1, requires_grad=True)\n",
    "\n",
    "    cost = train_model(X, y, W, b, num_epochs, lr, True)\n",
    "\n",
    "    trial.report(cost, num_epochs)\n",
    "    print(f'Trial {trial.number} - Epoch: {num_epochs}, lr: {lr}, Cost: {cost}')\n",
    "\n",
    "    return cost"
   ]
  },
  {
   "cell_type": "markdown",
   "metadata": {},
   "source": [
    "### To train the model"
   ]
  },
  {
   "cell_type": "code",
   "execution_count": 222,
   "metadata": {},
   "outputs": [],
   "source": [
    "def train_model(X, y, W, b, num_epochs, lr, check_optuna):\n",
    "    # set optimizer\n",
    "    optimizer = optim.SGD([W, b], lr=lr)\n",
    "\n",
    "    costs = []\n",
    "    for epoch in range(num_epochs):\n",
    "        hypothesis = X * W + b\n",
    "        cost = torch.mean((hypothesis - y) ** 2)\n",
    "\n",
    "        if check_optuna == True:\n",
    "            if torch.isnan(cost) or torch.isinf(cost):\n",
    "                raise optuna.TrialPruned()\n",
    "        \n",
    "        optimizer.zero_grad()\n",
    "        cost.backward()\n",
    "        optimizer.step()\n",
    "\n",
    "        if check_optuna == False:\n",
    "            costs.append(cost.item())\n",
    "            if epoch % (num_epochs // 10) == 0:\n",
    "                print(f'Epoch: {epoch}/{num_epochs} - Cost: {cost.item()}')\n",
    "\n",
    "    if check_optuna == False:\n",
    "        return costs, hypothesis\n",
    "    else:\n",
    "        return cost.item()"
   ]
  },
  {
   "cell_type": "markdown",
   "metadata": {},
   "source": [
    "## Study optuna"
   ]
  },
  {
   "cell_type": "code",
   "execution_count": 223,
   "metadata": {},
   "outputs": [
    {
     "name": "stdout",
     "output_type": "stream",
     "text": [
      "Trial 0 - Epoch: 1000, lr: 0.0001, Cost: 0.8788061141967773\n",
      "Trial 1 - Epoch: 10000, lr: 1e-05, Cost: 0.8787263035774231\n",
      "Trial 2 - Epoch: 1000, lr: 0.01, Cost: 0.6321200728416443\n",
      "Trial 3 - Epoch: 10000, lr: 0.001, Cost: 0.6321201324462891\n",
      "Trial 4 - Epoch: 100, lr: 0.001, Cost: 0.8796075582504272\n",
      "Trial 5 - Epoch: 10000, lr: 0.1, Cost: 0.6321201324462891\n",
      "Trial 6 - Epoch: 100, lr: 1e-05, Cost: 0.9985460042953491\n",
      "Trial 7 - Epoch: 10000, lr: 0.01, Cost: 0.6321200728416443\n",
      "Trial 8 - Epoch: 100, lr: 1e-05, Cost: 0.9985460042953491\n",
      "Trial 9 - Epoch: 10000, lr: 0.01, Cost: 0.6321200728416443\n",
      "Trial 10 - Epoch: 1000, lr: 0.01, Cost: 0.6321200728416443\n",
      "Trial 11 - Epoch: 1000, lr: 0.01, Cost: 0.6321200728416443\n",
      "Trial 12 - Epoch: 1000, lr: 0.01, Cost: 0.6321200728416443\n",
      "Trial 13 - Epoch: 10000, lr: 0.01, Cost: 0.6321200728416443\n",
      "Trial 14 - Epoch: 1000, lr: 0.1, Cost: 0.6321201324462891\n",
      "Trial 15 - Epoch: 10000, lr: 0.0001, Cost: 0.6388581991195679\n",
      "Trial 16 - Epoch: 1000, lr: 0.01, Cost: 0.6321200728416443\n",
      "Trial 17 - Epoch: 1000, lr: 0.01, Cost: 0.6321200728416443\n",
      "Trial 18 - Epoch: 10000, lr: 0.01, Cost: 0.6321200728416443\n",
      "Trial 19 - Epoch: 100, lr: 0.001, Cost: 0.8796075582504272\n",
      "Trial 20 - Epoch: 10000, lr: 0.1, Cost: 0.6321201324462891\n",
      "Trial 21 - Epoch: 10000, lr: 0.01, Cost: 0.6321200728416443\n",
      "Trial 22 - Epoch: 10000, lr: 0.01, Cost: 0.6321200728416443\n",
      "Trial 23 - Epoch: 10000, lr: 0.01, Cost: 0.6321200728416443\n",
      "Trial 24 - Epoch: 10000, lr: 0.0001, Cost: 0.6388581991195679\n",
      "Trial 25 - Epoch: 1000, lr: 0.01, Cost: 0.6321200728416443\n",
      "Trial 26 - Epoch: 10000, lr: 0.01, Cost: 0.6321200728416443\n",
      "Trial 27 - Epoch: 10000, lr: 0.01, Cost: 0.6321200728416443\n",
      "Trial 28 - Epoch: 100, lr: 0.01, Cost: 0.6388571858406067\n",
      "Trial 29 - Epoch: 1000, lr: 0.0001, Cost: 0.8788061141967773\n"
     ]
    }
   ],
   "source": [
    "optuna.logging.set_verbosity(optuna.logging.WARNING)\n",
    "\n",
    "study = optuna.create_study(direction='minimize')\n",
    "study.optimize(lambda trial: objective(trial, x_train, y_train), n_trials=30)"
   ]
  },
  {
   "cell_type": "markdown",
   "metadata": {},
   "source": [
    "## Best Parameters"
   ]
  },
  {
   "cell_type": "code",
   "execution_count": 224,
   "metadata": {},
   "outputs": [
    {
     "name": "stdout",
     "output_type": "stream",
     "text": [
      "Best parameters: {'epoch_num': 1000, 'lr': 0.01}\n"
     ]
    }
   ],
   "source": [
    "best_params = study.best_params\n",
    "print('Best parameters:', best_params)\n",
    "\n",
    "best_epoch = best_params['epoch_num']\n",
    "best_lr = best_params['lr']"
   ]
  },
  {
   "cell_type": "markdown",
   "metadata": {},
   "source": [
    "## Train the model with best parameters"
   ]
  },
  {
   "cell_type": "code",
   "execution_count": 225,
   "metadata": {},
   "outputs": [
    {
     "name": "stdout",
     "output_type": "stream",
     "text": [
      "Epoch: 0/1000 - Cost: 0.896959662437439\n",
      "Epoch: 100/1000 - Cost: 0.5242617130279541\n",
      "Epoch: 200/1000 - Cost: 0.5110664963722229\n",
      "Epoch: 300/1000 - Cost: 0.5103203058242798\n",
      "Epoch: 400/1000 - Cost: 0.5102723836898804\n",
      "Epoch: 500/1000 - Cost: 0.5102692246437073\n",
      "Epoch: 600/1000 - Cost: 0.510269045829773\n",
      "Epoch: 700/1000 - Cost: 0.5102689862251282\n",
      "Epoch: 800/1000 - Cost: 0.5102689862251282\n",
      "Epoch: 900/1000 - Cost: 0.510269045829773\n"
     ]
    }
   ],
   "source": [
    "W = torch.zeros(1, requires_grad=True)\n",
    "b = torch.zeros(1, requires_grad=True)\n",
    "\n",
    "costs, hypothesis = train_model(x_test, y_test, W, b, best_epoch, best_lr, False)"
   ]
  },
  {
   "cell_type": "markdown",
   "metadata": {},
   "source": [
    "## Plot the cost with epoch"
   ]
  },
  {
   "cell_type": "code",
   "execution_count": 226,
   "metadata": {},
   "outputs": [
    {
     "data": {
      "image/png": "[encoded data removed]",
      "text/plain": [
       "<Figure size 640x480 with 1 Axes>"
      ]
     },
     "metadata": {},
     "output_type": "display_data"
    }
   ],
   "source": [
    "plt.plot(range(best_epoch), costs)\n",
    "plt.xlabel('Epoch')\n",
    "plt.ylabel('Cost')\n",
    "plt.title('Cost with epoch')\n",
    "plt.show()"
   ]
  },
  {
   "cell_type": "markdown",
   "metadata": {},
   "source": [
    "## Plot the model"
   ]
  },
  {
   "cell_type": "code",
   "execution_count": 234,
   "metadata": {},
   "outputs": [
    {
     "data": {
      "image/png": "[encoded data removed]",
      "text/plain": [
       "<Figure size 640x480 with 1 Axes>"
      ]
     },
     "metadata": {},
     "output_type": "display_data"
    }
   ],
   "source": [
    "plt.scatter(x_scaler.inverse_transform(x_train), y_scaler.inverse_transform(y_train))\n",
    "plt.plot(x_scaler.inverse_transform(x_test), y_scaler.inverse_transform(hypothesis.detach().numpy()), color='red')\n",
    "plt.xlabel('Midterm')\n",
    "plt.ylabel('Final')\n",
    "plt.title('Dataset with the model')\n",
    "plt.grid(True)\n",
    "plt.show()"
   ]
  },
  {
   "cell_type": "markdown",
   "metadata": {},
   "source": [
    "## Print trained W, b"
   ]
  },
  {
   "cell_type": "code",
   "execution_count": 235,
   "metadata": {},
   "outputs": [
    {
     "name": "stdout",
     "output_type": "stream",
     "text": [
      "Weights of the model: 0.6616544723510742\n",
      "Bias of the model: -0.11214254051446915\n"
     ]
    }
   ],
   "source": [
    "print('Weights of the model:', W.item())\n",
    "print('Bias of the model:', b.item())"
   ]
  },
  {
   "cell_type": "markdown",
   "metadata": {},
   "source": [
    "## Plot loss graph"
   ]
  },
  {
   "cell_type": "code",
   "execution_count": null,
   "metadata": {},
   "outputs": [],
   "source": []
  },
  {
   "cell_type": "markdown",
   "metadata": {},
   "source": [
    "## Test the performance of the model"
   ]
  },
  {
   "cell_type": "code",
   "execution_count": null,
   "metadata": {},
   "outputs": [],
   "source": []
  }
 ],
 "metadata": {
  "kernelspec": {
   "display_name": "sirius",
   "language": "python",
   "name": "python3"
  },
  "language_info": {
   "codemirror_mode": {
    "name": "ipython",
    "version": 3
   },
   "file_extension": ".py",
   "mimetype": "text/x-python",
   "name": "python",
   "nbconvert_exporter": "python",
   "pygments_lexer": "ipython3",
   "version": "3.8.20"
  }
 },
 "nbformat": 4,
 "nbformat_minor": 2
}
