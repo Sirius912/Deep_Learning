{
 "cells": [
  {
   "cell_type": "markdown",
   "metadata": {},
   "source": [
    "# Simple Linear Regression\n",
    "#### The normalization and splitting dataset into train and test sets are essential. However, in the case of this dataset, due to its small size, these steps were not performed."
   ]
  },
  {
   "cell_type": "markdown",
   "metadata": {},
   "source": [
    "## Import Libraries"
   ]
  },
  {
   "cell_type": "code",
   "execution_count": 1,
   "metadata": {},
   "outputs": [],
   "source": [
    "import numpy as np\n",
    "import pandas as pd\n",
    "import torch\n",
    "import optuna\n",
    "import torch.optim as optim\n",
    "import matplotlib.pyplot as plt"
   ]
  },
  {
   "cell_type": "markdown",
   "metadata": {},
   "source": [
    "## Prepare the dataset"
   ]
  },
  {
   "cell_type": "markdown",
   "metadata": {},
   "source": [
    "### Load the dataset"
   ]
  },
  {
   "cell_type": "code",
   "execution_count": 2,
   "metadata": {},
   "outputs": [
    {
     "data": {
      "text/html": [
       "<div>\n",
       "<style scoped>\n",
       "    .dataframe tbody tr th:only-of-type {\n",
       "        vertical-align: middle;\n",
       "    }\n",
       "\n",
       "    .dataframe tbody tr th {\n",
       "        vertical-align: top;\n",
       "    }\n",
       "\n",
       "    .dataframe thead th {\n",
       "        text-align: right;\n",
       "    }\n",
       "</style>\n",
       "<table border=\"1\" class=\"dataframe\">\n",
       "  <thead>\n",
       "    <tr style=\"text-align: right;\">\n",
       "      <th></th>\n",
       "      <th>Midterm</th>\n",
       "      <th>Final</th>\n",
       "    </tr>\n",
       "  </thead>\n",
       "  <tbody>\n",
       "    <tr>\n",
       "      <th>0</th>\n",
       "      <td>78</td>\n",
       "      <td>66</td>\n",
       "    </tr>\n",
       "    <tr>\n",
       "      <th>1</th>\n",
       "      <td>83</td>\n",
       "      <td>73</td>\n",
       "    </tr>\n",
       "    <tr>\n",
       "      <th>2</th>\n",
       "      <td>56</td>\n",
       "      <td>76</td>\n",
       "    </tr>\n",
       "    <tr>\n",
       "      <th>3</th>\n",
       "      <td>67</td>\n",
       "      <td>65</td>\n",
       "    </tr>\n",
       "    <tr>\n",
       "      <th>4</th>\n",
       "      <td>85</td>\n",
       "      <td>81</td>\n",
       "    </tr>\n",
       "    <tr>\n",
       "      <th>5</th>\n",
       "      <td>44</td>\n",
       "      <td>54</td>\n",
       "    </tr>\n",
       "    <tr>\n",
       "      <th>6</th>\n",
       "      <td>32</td>\n",
       "      <td>29</td>\n",
       "    </tr>\n",
       "    <tr>\n",
       "      <th>7</th>\n",
       "      <td>90</td>\n",
       "      <td>85</td>\n",
       "    </tr>\n",
       "  </tbody>\n",
       "</table>\n",
       "</div>"
      ],
      "text/plain": [
       "   Midterm  Final\n",
       "0       78     66\n",
       "1       83     73\n",
       "2       56     76\n",
       "3       67     65\n",
       "4       85     81\n",
       "5       44     54\n",
       "6       32     29\n",
       "7       90     85"
      ]
     },
     "execution_count": 2,
     "metadata": {},
     "output_type": "execute_result"
    }
   ],
   "source": [
    "data = pd.read_csv('dataset.csv')\n",
    "data"
   ]
  },
  {
   "cell_type": "markdown",
   "metadata": {},
   "source": [
    "### Numpy -> Tensor"
   ]
  },
  {
   "cell_type": "code",
   "execution_count": 3,
   "metadata": {},
   "outputs": [
    {
     "name": "stdout",
     "output_type": "stream",
     "text": [
      "X shape: (8, 1)\n",
      "y shape: (8,)\n"
     ]
    }
   ],
   "source": [
    "X = data.drop(columns=['Final']).values\n",
    "y = data['Final'].values\n",
    "\n",
    "print('X shape:', X.shape)\n",
    "print('y shape:', y.shape)"
   ]
  },
  {
   "cell_type": "code",
   "execution_count": 4,
   "metadata": {},
   "outputs": [],
   "source": [
    "X = torch.IntTensor(X)\n",
    "y = torch.IntTensor(y).reshape(-1, 1)"
   ]
  },
  {
   "cell_type": "markdown",
   "metadata": {},
   "source": [
    "## Plot the dataset"
   ]
  },
  {
   "cell_type": "code",
   "execution_count": 5,
   "metadata": {},
   "outputs": [
    {
     "data": {
      "image/png": "[encoded data removed]",
      "text/plain": [
       "<Figure size 640x480 with 1 Axes>"
      ]
     },
     "metadata": {},
     "output_type": "display_data"
    }
   ],
   "source": [
    "plt.scatter(X, y)\n",
    "plt.grid(True)\n",
    "plt.xlabel('Midterm')\n",
    "plt.ylabel('Final')\n",
    "plt.show()"
   ]
  },
  {
   "cell_type": "markdown",
   "metadata": {},
   "source": [
    "## Functions to compute the models"
   ]
  },
  {
   "cell_type": "markdown",
   "metadata": {},
   "source": [
    "### To optimize parameters using optuna"
   ]
  },
  {
   "cell_type": "code",
   "execution_count": 6,
   "metadata": {},
   "outputs": [],
   "source": [
    "def objective(trial):\n",
    "    num_epochs = trial.suggest_categorical('epoch_num', [100, 1000, 10000])\n",
    "    lr = trial.suggest_categorical('lr', [0.1, 0.01, 0.001, 0.0001, 0.00001])\n",
    "\n",
    "    # define paremeters\n",
    "    W = torch.zeros(1, requires_grad=True)\n",
    "    b = torch.zeros(1, requires_grad=True)\n",
    "\n",
    "    cost = train_model(W, b, num_epochs, lr, True)\n",
    "\n",
    "    trial.report(cost, num_epochs)\n",
    "    print(f'Trial {trial.number} - Epoch: {num_epochs}, lr: {lr}, Cost: {cost}')\n",
    "\n",
    "    return cost"
   ]
  },
  {
   "cell_type": "markdown",
   "metadata": {},
   "source": [
    "### To train the model"
   ]
  },
  {
   "cell_type": "code",
   "execution_count": 7,
   "metadata": {},
   "outputs": [],
   "source": [
    "def train_model(W, b, num_epochs, lr, check_optuna):\n",
    "    # set optimizer\n",
    "    optimizer = optim.SGD([W, b], lr=lr)\n",
    "\n",
    "    costs = []\n",
    "    for epoch in range(num_epochs):\n",
    "        hypothesis = X * W + b\n",
    "        cost = torch.mean((hypothesis - y) ** 2)\n",
    "\n",
    "        if check_optuna == True:\n",
    "            if torch.isnan(cost) or torch.isinf(cost):\n",
    "                raise optuna.TrialPruned()\n",
    "        \n",
    "        optimizer.zero_grad()\n",
    "        cost.backward()\n",
    "        optimizer.step()\n",
    "\n",
    "        costs.append(cost.item())\n",
    "\n",
    "        if check_optuna == False:\n",
    "            if epoch % (num_epochs // 10) == 0:\n",
    "                print(f'Epoch: {epoch}/{num_epochs} - Cost: {cost.item()}')\n",
    "\n",
    "    if check_optuna == False:\n",
    "        return costs, hypothesis\n",
    "    return cost.item()"
   ]
  },
  {
   "cell_type": "markdown",
   "metadata": {},
   "source": [
    "## Study optuna"
   ]
  },
  {
   "cell_type": "code",
   "execution_count": 8,
   "metadata": {},
   "outputs": [
    {
     "name": "stdout",
     "output_type": "stream",
     "text": [
      "Trial 1 - Epoch: 1000, lr: 1e-05, Cost: 94.8082504272461\n",
      "Trial 4 - Epoch: 1000, lr: 0.0001, Cost: 94.15706634521484\n",
      "Trial 6 - Epoch: 10000, lr: 0.0001, Cost: 88.57300567626953\n",
      "Trial 7 - Epoch: 1000, lr: 0.0001, Cost: 94.15706634521484\n",
      "Trial 10 - Epoch: 10000, lr: 0.0001, Cost: 88.57300567626953\n",
      "Trial 11 - Epoch: 10000, lr: 0.0001, Cost: 88.57300567626953\n",
      "Trial 12 - Epoch: 10000, lr: 0.0001, Cost: 88.57300567626953\n",
      "Trial 13 - Epoch: 10000, lr: 0.0001, Cost: 88.57300567626953\n",
      "Trial 15 - Epoch: 10000, lr: 1e-05, Cost: 94.15647888183594\n",
      "Trial 16 - Epoch: 10000, lr: 0.0001, Cost: 88.57300567626953\n",
      "Trial 17 - Epoch: 10000, lr: 0.0001, Cost: 88.57300567626953\n",
      "Trial 18 - Epoch: 10000, lr: 0.0001, Cost: 88.57300567626953\n",
      "Trial 20 - Epoch: 10000, lr: 1e-05, Cost: 94.15647888183594\n",
      "Trial 21 - Epoch: 10000, lr: 0.0001, Cost: 88.57300567626953\n",
      "Trial 22 - Epoch: 10000, lr: 0.0001, Cost: 88.57300567626953\n",
      "Trial 23 - Epoch: 10000, lr: 0.0001, Cost: 88.57300567626953\n",
      "Trial 25 - Epoch: 10000, lr: 0.0001, Cost: 88.57300567626953\n",
      "Trial 26 - Epoch: 10000, lr: 0.0001, Cost: 88.57300567626953\n",
      "Trial 27 - Epoch: 10000, lr: 0.0001, Cost: 88.57300567626953\n",
      "Trial 28 - Epoch: 1000, lr: 0.0001, Cost: 94.15706634521484\n"
     ]
    }
   ],
   "source": [
    "optuna.logging.set_verbosity(optuna.logging.WARNING)\n",
    "\n",
    "study = optuna.create_study(direction='minimize')\n",
    "study.optimize(objective, n_trials=30)"
   ]
  },
  {
   "cell_type": "markdown",
   "metadata": {},
   "source": [
    "## Best Parameters"
   ]
  },
  {
   "cell_type": "code",
   "execution_count": 9,
   "metadata": {},
   "outputs": [
    {
     "name": "stdout",
     "output_type": "stream",
     "text": [
      "Best parameters: {'epoch_num': 10000, 'lr': 0.0001}\n"
     ]
    }
   ],
   "source": [
    "best_params = study.best_params\n",
    "print('Best parameters:', best_params)\n",
    "\n",
    "best_epoch = best_params['epoch_num']\n",
    "best_lr = best_params['lr']"
   ]
  },
  {
   "cell_type": "markdown",
   "metadata": {},
   "source": [
    "## Train the model with best parameters"
   ]
  },
  {
   "cell_type": "code",
   "execution_count": 10,
   "metadata": {},
   "outputs": [
    {
     "name": "stdout",
     "output_type": "stream",
     "text": [
      "Epoch: 0/10000 - Cost: 4653.625\n",
      "Epoch: 1000/10000 - Cost: 94.15633392333984\n",
      "Epoch: 2000/10000 - Cost: 93.45380401611328\n",
      "Epoch: 3000/10000 - Cost: 92.7732925415039\n",
      "Epoch: 4000/10000 - Cost: 92.11418914794922\n",
      "Epoch: 5000/10000 - Cost: 91.47574615478516\n",
      "Epoch: 6000/10000 - Cost: 90.857421875\n",
      "Epoch: 7000/10000 - Cost: 90.25857543945312\n",
      "Epoch: 8000/10000 - Cost: 89.678466796875\n",
      "Epoch: 9000/10000 - Cost: 89.11665344238281\n"
     ]
    }
   ],
   "source": [
    "W = torch.zeros(1, requires_grad=True)\n",
    "b = torch.zeros(1, requires_grad=True)\n",
    "\n",
    "costs, hypothesis = train_model(W, b, best_epoch, best_lr, False)"
   ]
  },
  {
   "cell_type": "markdown",
   "metadata": {},
   "source": [
    "## Plot the cost with epoch"
   ]
  },
  {
   "cell_type": "code",
   "execution_count": 11,
   "metadata": {},
   "outputs": [
    {
     "data": {
      "image/png": "[encoded data removed]",
      "text/plain": [
       "<Figure size 640x480 with 1 Axes>"
      ]
     },
     "metadata": {},
     "output_type": "display_data"
    }
   ],
   "source": [
    "plt.plot(range(best_epoch), costs)\n",
    "plt.xlabel('Epoch')\n",
    "plt.ylabel('Cost')\n",
    "plt.title('Cost with epoch')\n",
    "plt.show()"
   ]
  },
  {
   "cell_type": "markdown",
   "metadata": {},
   "source": [
    "## Plot the model"
   ]
  },
  {
   "cell_type": "code",
   "execution_count": 12,
   "metadata": {},
   "outputs": [
    {
     "data": {
      "image/png": "[encoded data removed]",
      "text/plain": [
       "<Figure size 640x480 with 1 Axes>"
      ]
     },
     "metadata": {},
     "output_type": "display_data"
    }
   ],
   "source": [
    "plt.scatter(X, y)\n",
    "plt.plot(X.detach().numpy(), hypothesis.detach().numpy(), color='red')\n",
    "plt.xlabel('Midterm')\n",
    "plt.ylabel('Final')\n",
    "plt.title('Dataset with the model')\n",
    "plt.grid(True)\n",
    "plt.show()"
   ]
  },
  {
   "cell_type": "markdown",
   "metadata": {},
   "source": [
    "## Print trained W, b"
   ]
  },
  {
   "cell_type": "code",
   "execution_count": 13,
   "metadata": {},
   "outputs": [
    {
     "name": "stdout",
     "output_type": "stream",
     "text": [
      "Weights of the model: 0.9337682723999023\n",
      "Bias of the model: 2.5222692489624023\n"
     ]
    }
   ],
   "source": [
    "print('Weights of the model:', W.item())\n",
    "print('Bias of the model:', b.item())"
   ]
  },
  {
   "cell_type": "markdown",
   "metadata": {},
   "source": [
    "## If Midterm = 71, Final = ?"
   ]
  },
  {
   "cell_type": "code",
   "execution_count": 14,
   "metadata": {},
   "outputs": [
    {
     "name": "stdout",
     "output_type": "stream",
     "text": [
      "Final score is estimated as 68\n"
     ]
    }
   ],
   "source": [
    "midterm = 71\n",
    "y_pred = int(W * midterm + b)\n",
    "print('Final score is estimated as', y_pred)"
   ]
  }
 ],
 "metadata": {
  "kernelspec": {
   "display_name": "sirius",
   "language": "python",
   "name": "python3"
  },
  "language_info": {
   "codemirror_mode": {
    "name": "ipython",
    "version": 3
   },
   "file_extension": ".py",
   "mimetype": "text/x-python",
   "name": "python",
   "nbconvert_exporter": "python",
   "pygments_lexer": "ipython3",
   "version": "3.8.20"
  }
 },
 "nbformat": 4,
 "nbformat_minor": 2
}
